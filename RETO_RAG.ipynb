{
 "cells": [
  {
   "cell_type": "markdown",
   "id": "header",
   "metadata": {},
   "source": [
    "# Sistema RAG (Retrieval-Augmented Generation) Optimizado\n",
    "\n",
    "**Certificado en Desarrollo de Software con IA Generativa**  \n",
    "**M1. Introducción a la IA en el Desarrollo de Software**\n",
    "\n",
    "Este notebook implementa un sistema completo de RAG optimizado que combina:\n",
    "- Carga automática de documentos desde directorio sample_docs/\n",
    "- Extracción y procesamiento de documentos PDF y TXT\n",
    "- Chunking optimizado (1200 caracteres con overlap 200)\\n- Creación de embeddings vectoriales\n",
    "- Almacenamiento en base de datos vectorial persistente\n",
    "- Recuperación MMR (Maximal Marginal Relevance) para mayor diversidad\n",
    "- Generación de respuestas contextualizadas\n",
    "- Validación con preguntas críticas"
   ]
  },
  {
   "cell_type": "markdown",
   "id": "setup_header",
   "metadata": {},
   "source": [
    "## 0. Setup y Configuración"
   ]
  },
  {
   "cell_type": "code",
   "execution_count": 21,
   "id": "install_deps",
   "metadata": {
    "ExecuteTime": {
     "end_time": "2025-09-17T06:29:53.505008Z",
     "start_time": "2025-09-17T06:29:52.382914Z"
    }
   },
   "outputs": [
    {
     "name": "stdout",
     "output_type": "stream",
     "text": [
      "\r\n",
      "\u001b[1m[\u001b[0m\u001b[34;49mnotice\u001b[0m\u001b[1;39;49m]\u001b[0m\u001b[39;49m A new release of pip is available: \u001b[0m\u001b[31;49m25.0.1\u001b[0m\u001b[39;49m -> \u001b[0m\u001b[32;49m25.2\u001b[0m\r\n",
      "\u001b[1m[\u001b[0m\u001b[34;49mnotice\u001b[0m\u001b[1;39;49m]\u001b[0m\u001b[39;49m To update, run: \u001b[0m\u001b[32;49mpip install --upgrade pip\u001b[0m\r\n"
     ]
    }
   ],
   "source": [
    "# Instalar dependencias (ejecutar solo la primera vez)\n",
    "!pip install -qU openai langchain langchain-openai langchain-chroma langchain-community chromadb pypdf python-dotenv tqdm --upgrade"
   ]
  },
  {
   "cell_type": "code",
   "execution_count": 22,
   "id": "imports",
   "metadata": {
    "ExecuteTime": {
     "end_time": "2025-09-17T06:29:53.516695Z",
     "start_time": "2025-09-17T06:29:53.512695Z"
    }
   },
   "outputs": [
    {
     "name": "stdout",
     "output_type": "stream",
     "text": [
      "✅ Todas las librerías importadas correctamente\n"
     ]
    }
   ],
   "source": [
    "# Importar librerías necesarias\n",
    "import os\n",
    "import sys\n",
    "from pathlib import Path\n",
    "from typing import List, Dict, Any\n",
    "import json\n",
    "import time\n",
    "from tqdm.auto import tqdm\n",
    "\n",
    "# Cargar variables de entorno\n",
    "from dotenv import load_dotenv\n",
    "load_dotenv()\n",
    "\n",
    "# Importar componentes de LangChain y OpenAI\n",
    "from langchain_openai import ChatOpenAI, OpenAIEmbeddings\n",
    "from langchain_chroma import Chroma\n",
    "from langchain.schema import Document\n",
    "from langchain.text_splitter import RecursiveCharacterTextSplitter\n",
    "from langchain.chains import RetrievalQA\n",
    "# IMPORTANTE: usar langchain_community en lugar de langchain.document_loaders (deprecado)\n",
    "from langchain_community.document_loaders import PyPDFLoader, TextLoader\n",
    "import chromadb\n",
    "\n",
    "print(\"✅ Todas las librerías importadas correctamente\")"
   ]
  },
  {
   "cell_type": "code",
   "execution_count": 23,
   "id": "config",
   "metadata": {
    "ExecuteTime": {
     "end_time": "2025-09-17T06:29:53.530215Z",
     "start_time": "2025-09-17T06:29:53.528018Z"
    }
   },
   "outputs": [
    {
     "name": "stdout",
     "output_type": "stream",
     "text": [
      "✅ API Key configurada\n",
      "📋 Configuración optimizada: {'chunk_size': 800, 'chunk_overlap': 200, 'embedding_model': 'text-embedding-3-small', 'llm_model': 'gpt-4o-mini', 'persist_directory': './chroma_db', 'retrieval_k': 5, 'search_type': 'mmr'}\n"
     ]
    }
   ],
   "source": [
    "# Configuración del sistema\n",
    "OPENAI_API_KEY = os.getenv(\"OPENAI_API_KEY\")\n",
    "if not OPENAI_API_KEY:\n",
    "    print(\"❌ No se encontró OPENAI_API_KEY\")\n",
    "    print(\"Por favor configura tu API key en el archivo .env\")\n",
    "else:\n",
    "    print(\"✅ API Key configurada\")\n",
    "\n",
    "# Configuraciones optimizadas del sistema\n",
    "CONFIG = {\n",
    "    \"chunk_size\": 1200,       # Optimizado para mejor contexto\\n    \"chunk_overlap\": 200,     # Mantenido para continuidad\n",
    "    \"embedding_model\": \"text-embedding-3-small\",\n",
    "    \"llm_model\": \"gpt-4o-mini\",\n",
    "    \"persist_directory\": \"./chroma_db\",\n",
    "    \"retrieval_k\": 7,         # Aumentado para mayor cobertura\\n    \"search_type\": \"mmr\"      # MMR para diversidad semántica\n",
    "}\n",
    "\n",
    "print(f\"📋 Configuración optimizada: {CONFIG}\")"
   ]
  },
  {
   "cell_type": "markdown",
   "id": "extraction_header",
   "metadata": {},
   "source": [
    "## 1. Extracción de Archivos con Carga Automática\n",
    "\n",
    "En esta sección extraemos texto de documentos PDF y TXT usando carga automática desde el directorio sample_docs/."
   ]
  },
  {
   "cell_type": "code",
   "execution_count": 24,
   "id": "create_sample_docs",
   "metadata": {
    "ExecuteTime": {
     "end_time": "2025-09-17T06:29:53.547946Z",
     "start_time": "2025-09-17T06:29:53.544541Z"
    }
   },
   "outputs": [
    {
     "name": "stdout",
     "output_type": "stream",
     "text": [
      "📁 Documentos de ejemplo creados: ['sample_docs/manual_politicas.txt', 'sample_docs/guia_desarrollo.txt']\n"
     ]
    }
   ],
   "source": [
    "# Crear documentos de ejemplo para la demostración\n",
    "def create_sample_documents():\n",
    "    \"\"\"Crea documentos de ejemplo si no existen archivos\"\"\"\n",
    "    sample_dir = Path(\"sample_docs\")\n",
    "    sample_dir.mkdir(exist_ok=True)\n",
    "    \n",
    "    # Documento 1: Manual de políticas de empresa\n",
    "    doc1_content = \"\"\"\n",
    "Manual de Políticas de la Empresa TechCorp\n",
    "\n",
    "1. POLÍTICAS DE TRABAJO REMOTO\n",
    "\n",
    "1.1 Elegibilidad\n",
    "Los empleados pueden trabajar de forma remota si:\n",
    "- Han completado al menos 6 meses en la empresa\n",
    "- Su supervisor directo aprueba la solicitud\n",
    "- Su rol permite trabajo remoto efectivo\n",
    "\n",
    "1.2 Horarios de Trabajo\n",
    "- Horario flexible entre 7:00 AM y 7:00 PM\n",
    "- Mínimo 6 horas de solapamiento con el equipo\n",
    "- Disponibilidad para reuniones importantes\n",
    "\n",
    "2. POLÍTICAS DE VACACIONES\n",
    "\n",
    "2.1 Días de Vacaciones\n",
    "- Empleados nuevos: 15 días al año\n",
    "- Empleados con 2+ años: 20 días al año\n",
    "- Empleados con 5+ años: 25 días al año\n",
    "\n",
    "2.2 Solicitud de Vacaciones\n",
    "- Solicitar con al menos 2 semanas de anticipación\n",
    "- Aprobación requerida del supervisor\n",
    "- No más de 10 días consecutivos sin aprobación especial\n",
    "\n",
    "3. CÓDIGO DE CONDUCTA\n",
    "\n",
    "3.1 Principios Básicos\n",
    "- Respeto mutuo entre colegas\n",
    "- Confidencialidad de información empresarial\n",
    "- Profesionalismo en todas las interacciones\n",
    "\n",
    "3.2 Uso de Tecnología\n",
    "- Equipos de la empresa solo para uso profesional\n",
    "- Prohibido instalar software no autorizado\n",
    "- Reportar inmediatamente cualquier problema de seguridad\n",
    "    \"\"\"\n",
    "    \n",
    "    # Documento 2: Guía técnica de desarrollo\n",
    "    doc2_content = \"\"\"\n",
    "Guía de Desarrollo de Software - TechCorp\n",
    "\n",
    "1. ESTÁNDARES DE CÓDIGO\n",
    "\n",
    "1.1 Lenguajes de Programación\n",
    "- Python: Seguir PEP 8\n",
    "- JavaScript: Usar ESLint con configuración estándar\n",
    "- Java: Seguir Google Java Style Guide\n",
    "\n",
    "1.2 Documentación\n",
    "- Todos los métodos públicos deben tener docstrings\n",
    "- README.md obligatorio en cada repositorio\n",
    "- Comentarios en código complejo\n",
    "\n",
    "2. CONTROL DE VERSIONES\n",
    "\n",
    "2.1 Git Workflow\n",
    "- Usar GitFlow para manejo de ramas\n",
    "- Commits descriptivos y atómicos\n",
    "- Pull requests obligatorios para main\n",
    "\n",
    "2.2 Revisión de Código\n",
    "- Al menos 2 revisores para cambios críticos\n",
    "- Ejecutar tests antes de merge\n",
    "- Revisar seguridad y performance\n",
    "\n",
    "3. TESTING\n",
    "\n",
    "3.1 Cobertura de Tests\n",
    "- Mínimo 80% de cobertura de código\n",
    "- Tests unitarios para toda lógica de negocio\n",
    "- Tests de integración para APIs\n",
    "\n",
    "3.2 Automatización\n",
    "- CI/CD pipeline configurado\n",
    "- Tests automáticos en cada PR\n",
    "- Deploy automático a staging\n",
    "\n",
    "4. SEGURIDAD\n",
    "\n",
    "4.1 Mejores Prácticas\n",
    "- Nunca hardcodear credenciales\n",
    "- Usar variables de entorno para configuración\n",
    "- Validar todas las entradas de usuario\n",
    "\n",
    "4.2 Dependencias\n",
    "- Mantener dependencias actualizadas\n",
    "- Escaneo de vulnerabilidades semanal\n",
    "- Usar herramientas como Snyk o OWASP\n",
    "\n",
    "5. DEPLOYMENT\n",
    "\n",
    "5.1 Ambientes\n",
    "- Development: Para desarrollo local\n",
    "- Staging: Para testing de QA\n",
    "- Production: Ambiente productivo\n",
    "\n",
    "5.2 Proceso de Deploy\n",
    "- Deploy solo desde rama main\n",
    "- Backup antes de cada deploy a producción\n",
    "- Rollback plan siempre disponible\n",
    "    \"\"\"\n",
    "    \n",
    "    # Guardar documentos\n",
    "    with open(sample_dir / \"manual_politicas.txt\", \"w\", encoding=\"utf-8\") as f:\n",
    "        f.write(doc1_content)\n",
    "        \n",
    "    with open(sample_dir / \"guia_desarrollo.txt\", \"w\", encoding=\"utf-8\") as f:\n",
    "        f.write(doc2_content)\n",
    "    \n",
    "    return [str(sample_dir / \"manual_politicas.txt\"), str(sample_dir / \"guia_desarrollo.txt\")]\n",
    "\n",
    "# Crear documentos de ejemplo\n",
    "sample_files = create_sample_documents()\n",
    "print(f\"📁 Documentos de ejemplo creados: {sample_files}\")"
   ]
  },
  {
   "cell_type": "code",
   "execution_count": 25,
   "id": "load_documents",
   "metadata": {
    "ExecuteTime": {
     "end_time": "2025-09-17T06:29:53.564805Z",
     "start_time": "2025-09-17T06:29:53.557610Z"
    }
   },
   "outputs": [
    {
     "name": "stdout",
     "output_type": "stream",
     "text": [
      "📁 Encontrados 5 archivos en sample_docs:\n",
      "   - reporte_ventas_2025_Q1_Q2.txt\n",
      "   - informe_proyectos_estrategicos_2025.txt\n",
      "   - guia_desarrollo.txt\n",
      "   - reporte_ventas_2024.txt\n",
      "   - manual_politicas.txt\n",
      "✅ Cargado TXT: reporte_ventas_2025_Q1_Q2.txt\n",
      "✅ Cargado TXT: informe_proyectos_estrategicos_2025.txt\n",
      "✅ Cargado TXT: guia_desarrollo.txt\n",
      "✅ Cargado TXT: reporte_ventas_2024.txt\n",
      "✅ Cargado TXT: manual_politicas.txt\n",
      "\n",
      "📄 Total de documentos cargados: 5\n",
      "Documento 1:\n",
      "  - Archivo: reporte_ventas_2025_Q1_Q2.txt\n",
      "  - Tipo: txt\n",
      "  - Longitud: 5361 caracteres\n",
      "  - Preview: REPORTE DE VENTAS 2025 (Q1–Q2) – TECHCORP  \n",
      "Departamento Comercial  \n",
      "Fecha de publicación: 15 de jul...\n",
      "\n",
      "Documento 2:\n",
      "  - Archivo: informe_proyectos_estrategicos_2025.txt\n",
      "  - Tipo: txt\n",
      "  - Longitud: 6329 caracteres\n",
      "  - Preview: INFORME DE SEGUIMIENTO DE PROYECTOS ESTRATÉGICOS 2025 – TECHCORP  \n",
      "Oficina de Planeación y Ejecución...\n",
      "\n",
      "Documento 3:\n",
      "  - Archivo: guia_desarrollo.txt\n",
      "  - Tipo: txt\n",
      "  - Longitud: 1463 caracteres\n",
      "  - Preview: \n",
      "Guía de Desarrollo de Software - TechCorp\n",
      "\n",
      "1. ESTÁNDARES DE CÓDIGO\n",
      "\n",
      "1.1 Lenguajes de Programación\n",
      "-...\n",
      "\n",
      "Documento 4:\n",
      "  - Archivo: reporte_ventas_2024.txt\n",
      "  - Tipo: txt\n",
      "  - Longitud: 4252 caracteres\n",
      "  - Preview: REPORTE ANUAL DE VENTAS 2024 – TECHCORP  \n",
      "Departamento Comercial  \n",
      "Fecha de publicación: 15 de enero...\n",
      "\n",
      "Documento 5:\n",
      "  - Archivo: manual_politicas.txt\n",
      "  - Tipo: txt\n",
      "  - Longitud: 1126 caracteres\n",
      "  - Preview: \n",
      "Manual de Políticas de la Empresa TechCorp\n",
      "\n",
      "1. POLÍTICAS DE TRABAJO REMOTO\n",
      "\n",
      "1.1 Elegibilidad\n",
      "Los em...\n",
      "\n"
     ]
    }
   ],
   "source": [
    "# Función para cargar documentos automáticamente desde directorio\n",
    "def load_documents_from_directory(directory_path: str) -> List[Document]:\n",
    "    \"\"\"Carga automáticamente todos los archivos PDF y TXT desde un directorio\"\"\"\n",
    "    documents = []\n",
    "    directory = Path(directory_path)\n",
    "    \n",
    "    if not directory.exists():\n",
    "        print(f\"❌ Directorio no existe: {directory_path}\")\n",
    "        return documents\n",
    "    \n",
    "    # Buscar archivos PDF y TXT\n",
    "    pdf_files = list(directory.glob(\"*.pdf\"))\n",
    "    txt_files = list(directory.glob(\"*.txt\"))\n",
    "    \n",
    "    all_files = pdf_files + txt_files\n",
    "    \n",
    "    print(f\"📁 Encontrados {len(all_files)} archivos en {directory_path}:\")\n",
    "    for file in all_files:\n",
    "        print(f\"   - {file.name}\")\n",
    "    \n",
    "    for file_path in all_files:\n",
    "        try:\n",
    "            if file_path.suffix.lower() == '.pdf':\n",
    "                # IMPORTANTE: usar langchain_community en lugar de langchain.document_loaders\n",
    "                loader = PyPDFLoader(str(file_path))\n",
    "                docs = loader.load()\n",
    "                print(f\"✅ Cargado PDF: {file_path.name} ({len(docs)} páginas)\")\n",
    "                \n",
    "            elif file_path.suffix.lower() == '.txt':\n",
    "                loader = TextLoader(str(file_path), encoding='utf-8')\n",
    "                docs = loader.load()\n",
    "                print(f\"✅ Cargado TXT: {file_path.name}\")\n",
    "                \n",
    "            else:\n",
    "                continue\n",
    "                \n",
    "            # Agregar metadatos enriquecidos\n",
    "            for doc in docs:\n",
    "                doc.metadata['source_file'] = file_path.name\n",
    "                doc.metadata['file_type'] = file_path.suffix[1:]  # sin el punto\n",
    "                doc.metadata['file_path'] = str(file_path)\n",
    "            \n",
    "            documents.extend(docs)\n",
    "            \n",
    "        except Exception as e:\n",
    "            print(f\"❌ Error cargando {file_path.name}: {e}\")\n",
    "            \n",
    "    return documents\n",
    "\n",
    "# Cargar documentos automáticamente\n",
    "documents = load_documents_from_directory(\"sample_docs\")\n",
    "print(f\"\\n📄 Total de documentos cargados: {len(documents)}\")\n",
    "\n",
    "# Mostrar información detallada de los documentos\n",
    "for i, doc in enumerate(documents):\n",
    "    print(f\"Documento {i+1}:\")\n",
    "    print(f\"  - Archivo: {doc.metadata['source_file']}\")\n",
    "    print(f\"  - Tipo: {doc.metadata['file_type']}\")\n",
    "    print(f\"  - Longitud: {len(doc.page_content)} caracteres\")\n",
    "    print(f\"  - Preview: {doc.page_content[:100]}...\\n\")"
   ]
  },
  {
   "cell_type": "markdown",
   "id": "chunking_header",
   "metadata": {},
   "source": [
    "## 2. División de Texto en Fragmentos Optimizada (Chunking)\n",
    "\n",
    "Dividimos los documentos en fragmentos optimizados de 1200 caracteres para mejor continuidad contextual."
   ]
  },
  {
   "cell_type": "code",
   "execution_count": 26,
   "id": "text_splitting",
   "metadata": {
    "ExecuteTime": {
     "end_time": "2025-09-17T06:29:53.573488Z",
     "start_time": "2025-09-17T06:29:53.569565Z"
    }
   },
   "outputs": [
    {
     "name": "stdout",
     "output_type": "stream",
     "text": [
      "🔧 Configurado divisor de texto optimizado:\n",
      "  - Tamaño de fragmento: 800 caracteres (optimizado)\n",
      "  - Solapamiento: 200 caracteres\n",
      "  - Mejora: chunks más pequeños para mejor continuidad contextual\n",
      "\n",
      "✂️ Documentos divididos en 32 fragmentos optimizados\n",
      "\n",
      "📋 Información de fragmentos optimizados:\n",
      "Fragmento 1:\n",
      "  - Archivo origen: reporte_ventas_2025_Q1_Q2.txt\n",
      "  - ID: 0\n",
      "  - Tamaño: 614 caracteres\n",
      "  - Contenido: REPORTE DE VENTAS 2025 (Q1–Q2) – TECHCORP  \n",
      "Departamento Comercial  \n",
      "Fecha de publicación: 15 de julio de 2025\n",
      "\n",
      "1. RESUMEN EJECUTIVO\n",
      "\n",
      "Durante el prime...\n",
      "\n",
      "Fragmento 2:\n",
      "  - Archivo origen: reporte_ventas_2025_Q1_Q2.txt\n",
      "  - ID: 1\n",
      "  - Tamaño: 584 caracteres\n",
      "  - Contenido: 2. DETALLE DE VENTAS POR TRIMESTRE\n",
      "\n",
      "Q1 2025 (Enero - Marzo)  \n",
      "Ingresos totales: $129,400,000 MXN  \n",
      "Producto líder: TechSuite CRM Cloud 2.0 (42% de las...\n",
      "\n",
      "Fragmento 3:\n",
      "  - Archivo origen: reporte_ventas_2025_Q1_Q2.txt\n",
      "  - ID: 2\n",
      "  - Tamaño: 733 caracteres\n",
      "  - Contenido: Q2 2025 (Abril - Junio)  \n",
      "Ingresos totales: $138,500,000 MXN  \n",
      "Producto líder: SmartFleet 360 (35% de las ventas)  \n",
      "Región con mayor crecimiento: Nort...\n",
      "\n",
      "📊 Estadísticas de fragmentos:\n",
      "  - Tamaño promedio: 656.2 caracteres\n",
      "  - Tamaño mínimo: 260 caracteres\n",
      "  - Tamaño máximo: 798 caracteres\n"
     ]
    }
   ],
   "source": [
    "# Configurar el divisor de texto optimizado\n",
    "text_splitter = RecursiveCharacterTextSplitter(\n",
    "    chunk_size=CONFIG[\"chunk_size\"],\n",
    "    chunk_overlap=CONFIG[\"chunk_overlap\"],\n",
    "    length_function=len,\n",
    "    separators=[\"\\n\\n\", \"\\n\", \".\", \"!\", \"?\", \",\", \" \", \"\"]\n",
    ")\n",
    "\n",
    "print(f\"🔧 Configurado divisor de texto optimizado:\")\n",
    "print(f\"  - Tamaño de fragmento: {CONFIG['chunk_size']} caracteres (optimizado)\")\n",
    "print(f\"  - Solapamiento: {CONFIG['chunk_overlap']} caracteres\")\n",
    "print(f\"  - Mejora: chunks más pequeños para mejor continuidad contextual\")\n",
    "\n",
    "# Dividir documentos en fragmentos\n",
    "chunks = text_splitter.split_documents(documents)\n",
    "\n",
    "# Agregar metadatos de fragmento\n",
    "for i, chunk in enumerate(chunks):\n",
    "    chunk.metadata['chunk_id'] = i\n",
    "    chunk.metadata['chunk_size'] = len(chunk.page_content)\n",
    "\n",
    "print(f\"\\n✂️ Documentos divididos en {len(chunks)} fragmentos optimizados\")\n",
    "\n",
    "# Mostrar información de algunos fragmentos\n",
    "print(\"\\n📋 Información de fragmentos optimizados:\")\n",
    "for i, chunk in enumerate(chunks[:3]):  # Mostrar primeros 3 fragmentos\n",
    "    print(f\"Fragmento {i+1}:\")\n",
    "    print(f\"  - Archivo origen: {chunk.metadata['source_file']}\")\n",
    "    print(f\"  - ID: {chunk.metadata['chunk_id']}\")\n",
    "    print(f\"  - Tamaño: {chunk.metadata['chunk_size']} caracteres\")\n",
    "    print(f\"  - Contenido: {chunk.page_content[:150]}...\\n\")\n",
    "\n",
    "# Análisis de distribución de tamaños\n",
    "chunk_sizes = [chunk.metadata['chunk_size'] for chunk in chunks]\n",
    "print(f\"📊 Estadísticas de fragmentos:\")\n",
    "print(f\"  - Tamaño promedio: {sum(chunk_sizes)/len(chunk_sizes):.1f} caracteres\")\n",
    "print(f\"  - Tamaño mínimo: {min(chunk_sizes)} caracteres\") \n",
    "print(f\"  - Tamaño máximo: {max(chunk_sizes)} caracteres\")"
   ]
  },
  {
   "cell_type": "markdown",
   "id": "embedding_header",
   "metadata": {},
   "source": [
    "## 3. Creación de Embeddings\n",
    "\n",
    "Convertimos el texto en representaciones vectoriales usando OpenAI embeddings."
   ]
  },
  {
   "cell_type": "code",
   "execution_count": 27,
   "id": "setup_embeddings",
   "metadata": {
    "ExecuteTime": {
     "end_time": "2025-09-17T06:29:54.055957Z",
     "start_time": "2025-09-17T06:29:53.578789Z"
    }
   },
   "outputs": [
    {
     "name": "stdout",
     "output_type": "stream",
     "text": [
      "🧠 Configurado modelo de embeddings: text-embedding-3-small\n",
      "\n",
      "🧪 Probando generación de embeddings...\n",
      "✅ Embeddings generados exitosamente\n",
      "  - Número de vectores: 2\n",
      "  - Dimensiones por vector: 1536\n",
      "  - Primeros 5 valores del vector 1: [0.006555972620844841, 0.0550614595413208, 0.029425645247101784, 0.03929227590560913, 0.0010066740214824677]\n"
     ]
    }
   ],
   "source": [
    "# Configurar embeddings de OpenAI\n",
    "embeddings = OpenAIEmbeddings(\n",
    "    model=CONFIG[\"embedding_model\"],\n",
    "    api_key=OPENAI_API_KEY\n",
    ")\n",
    "\n",
    "print(f\"🧠 Configurado modelo de embeddings: {CONFIG['embedding_model']}\")\n",
    "\n",
    "# Probar embeddings con texto de ejemplo\n",
    "sample_texts = [\n",
    "    \"Los empleados nuevos tienen 15 días de vacaciones al año\",\n",
    "    \"El código Python debe seguir el estándar PEP 8\"\n",
    "]\n",
    "\n",
    "print(\"\\n🧪 Probando generación de embeddings...\")\n",
    "try:\n",
    "    sample_vectors = embeddings.embed_documents(sample_texts)\n",
    "    print(f\"✅ Embeddings generados exitosamente\")\n",
    "    print(f\"  - Número de vectores: {len(sample_vectors)}\")\n",
    "    print(f\"  - Dimensiones por vector: {len(sample_vectors[0])}\")\n",
    "    print(f\"  - Primeros 5 valores del vector 1: {sample_vectors[0][:5]}\")\n",
    "except Exception as e:\n",
    "    print(f\"❌ Error generando embeddings: {e}\")"
   ]
  },
  {
   "cell_type": "markdown",
   "id": "vectorstore_header",
   "metadata": {},
   "source": [
    "## 4. Base de Datos Vectorial (Vector Store)\n",
    "\n",
    "Almacenamos los embeddings en ChromaDB para búsqueda eficiente."
   ]
  },
  {
   "cell_type": "code",
   "execution_count": 28,
   "id": "setup_vectorstore",
   "metadata": {
    "ExecuteTime": {
     "end_time": "2025-09-17T06:29:54.076038Z",
     "start_time": "2025-09-17T06:29:54.068875Z"
    }
   },
   "outputs": [
    {
     "name": "stdout",
     "output_type": "stream",
     "text": [
      "🗄️ Configurando base de datos vectorial:\n",
      "  - Directorio: ./chroma_db\n",
      "  - Colección: rag_documents\n",
      "✅ ChromaDB inicializado\n",
      "📊 Documentos existentes en la base de datos: 201\n"
     ]
    }
   ],
   "source": [
    "# Configurar ChromaDB\n",
    "persist_directory = CONFIG[\"persist_directory\"]\n",
    "\n",
    "print(f\"🗄️ Configurando base de datos vectorial:\")\n",
    "print(f\"  - Directorio: {persist_directory}\")\n",
    "print(f\"  - Colección: rag_documents\")\n",
    "\n",
    "# Crear vectorstore\n",
    "vectorstore = Chroma(\n",
    "    collection_name=\"rag_documents\",\n",
    "    embedding_function=embeddings,\n",
    "    persist_directory=persist_directory\n",
    ")\n",
    "\n",
    "print(\"✅ ChromaDB inicializado\")\n",
    "\n",
    "# Verificar si ya hay documentos en la base de datos\n",
    "try:\n",
    "    collection_count = vectorstore._collection.count()\n",
    "    print(f\"📊 Documentos existentes en la base de datos: {collection_count}\")\n",
    "except:\n",
    "    print(\"📊 Base de datos nueva (sin documentos previos)\")"
   ]
  },
  {
   "cell_type": "code",
   "execution_count": 29,
   "id": "index_documents",
   "metadata": {
    "ExecuteTime": {
     "end_time": "2025-09-17T06:29:55.776997Z",
     "start_time": "2025-09-17T06:29:54.086858Z"
    }
   },
   "outputs": [
    {
     "name": "stdout",
     "output_type": "stream",
     "text": [
      "🔄 Indexando documentos en ChromaDB...\n"
     ]
    },
    {
     "data": {
      "application/vnd.jupyter.widget-view+json": {
       "model_id": "ce9eb953b8784ca8a7fc50426ded74c7",
       "version_major": 2,
       "version_minor": 0
      },
      "text/plain": [
       "Indexando fragmentos:   0%|          | 0/1 [00:00<?, ?it/s]"
      ]
     },
     "jetTransient": {
      "display_id": null
     },
     "metadata": {},
     "output_type": "display_data"
    },
    {
     "name": "stdout",
     "output_type": "stream",
     "text": [
      "\n",
      "✅ Indexación completada\n",
      "📊 Total de documentos en la base de datos: 233\n",
      "📄 Fragmentos procesados: 32\n"
     ]
    }
   ],
   "source": [
    "# Indexar documentos en la base de datos vectorial\n",
    "print(\"🔄 Indexando documentos en ChromaDB...\")\n",
    "\n",
    "batch_size = 50  # Procesar en lotes para evitar rate limits\n",
    "\n",
    "for i in tqdm(range(0, len(chunks), batch_size), desc=\"Indexando fragmentos\"):\n",
    "    batch = chunks[i:i + batch_size]\n",
    "    \n",
    "    try:\n",
    "        vectorstore.add_documents(batch)\n",
    "        time.sleep(1)  # Pausa para evitar rate limits\n",
    "    except Exception as e:\n",
    "        print(f\"❌ Error en lote {i//batch_size + 1}: {e}\")\n",
    "        time.sleep(5)  # Pausa más larga en caso de error\n",
    "        \n",
    "        # Reintentar el lote\n",
    "        try:\n",
    "            vectorstore.add_documents(batch)\n",
    "        except Exception as e2:\n",
    "            print(f\"❌ Fallo definitivo en lote {i//batch_size + 1}: {e2}\")\n",
    "\n",
    "# Verificar indexación\n",
    "final_count = vectorstore._collection.count()\n",
    "print(f\"\\n✅ Indexación completada\")\n",
    "print(f\"📊 Total de documentos en la base de datos: {final_count}\")\n",
    "print(f\"📄 Fragmentos procesados: {len(chunks)}\")"
   ]
  },
  {
   "cell_type": "markdown",
   "id": "retrieval_header",
   "metadata": {},
   "source": [
    "## 5. Recuperación con MMR (Maximal Marginal Relevance)\n",
    "\n",
    "Configuramos el sistema de recuperación optimizado con MMR para mayor diversidad semántica."
   ]
  },
  {
   "cell_type": "code",
   "execution_count": 30,
   "id": "setup_retrieval",
   "metadata": {
    "ExecuteTime": {
     "end_time": "2025-09-17T06:29:56.451634Z",
     "start_time": "2025-09-17T06:29:55.814255Z"
    }
   },
   "outputs": [
    {
     "name": "stdout",
     "output_type": "stream",
     "text": [
      "🔍 Recuperador optimizado configurado:\n",
      "  - Tipo de búsqueda: mmr (Maximal Marginal Relevance)\n",
      "  - Documentos a recuperar: 5\n",
      "  - Candidatos para MMR: 20\n",
      "  - Lambda mult: 0.7 (balance diversidad/relevancia)\n",
      "\n",
      "🧪 Comparando tipos de búsqueda con: '¿Cuántos días de vacaciones tienen los empleados?'\n",
      "\n",
      "📋 Búsqueda por SIMILARIDAD (tradicional):\n",
      "  1. Score: 0.547 | - Empleados con 2+ años: 20 días al año\n",
      "    - Empleados con 5+ años: 25 días al año\n",
      "    \n",
      "    2.2 Sol...\n",
      "  2. Score: 0.789 | 2.2 Solicitud de Vacaciones\n",
      "- Solicitar con al menos 2 semanas de anticipación\n",
      "- Aprobación requerid...\n",
      "  3. Score: 0.789 | 2.2 Solicitud de Vacaciones\n",
      "- Solicitar con al menos 2 semanas de anticipación\n",
      "- Aprobación requerid...\n",
      "\n",
      "🎯 Búsqueda con MMR (diversidad optimizada):\n",
      "  1. Fuente: manual_politicas.txt | - Empleados con 2+ años: 20 días al año\n",
      "    - Empleados con 5+ años: 25 días al año\n",
      "    \n",
      "    2.2 Sol...\n",
      "  2. Fuente: manual_politicas.txt | 2.2 Solicitud de Vacaciones\n",
      "- Solicitar con al menos 2 semanas de anticipación\n",
      "- Aprobación requerid...\n",
      "  3. Fuente: manual_politicas.txt | 2.2 Solicitud de Vacaciones\n",
      "- Solicitar con al menos 2 semanas de anticipación\n",
      "- Aprobación requerid...\n",
      "\n",
      "💡 MMR proporciona mayor diversidad semántica en los resultados\n"
     ]
    }
   ],
   "source": [
    "# Configurar el recuperador con MMR\n",
    "retriever = vectorstore.as_retriever(\n",
    "    search_type=CONFIG[\"search_type\"],  # \"mmr\" para mayor diversidad\n",
    "    search_kwargs={\n",
    "        \"k\": CONFIG[\"retrieval_k\"],\n",
    "        \"fetch_k\": 20,  # Documentos candidatos para MMR\n",
    "        \"lambda_mult\": 0.5  # Balance diversidad vs relevancia\\n    }\n",
    ")\n",
    "\n",
    "print(f\"🔍 Recuperador optimizado configurado:\")\n",
    "print(f\"  - Tipo de búsqueda: {CONFIG['search_type']} (Maximal Marginal Relevance)\")\n",
    "print(f\"  - Documentos a recuperar: {CONFIG['retrieval_k']}\")\n",
    "print(f\"  - Candidatos para MMR: 20\")\n",
    "print(f\"  - Lambda mult: 0.7 (balance diversidad/relevancia)\")\n",
    "\n",
    "# Comparar búsqueda similarity vs MMR\n",
    "test_query = \"¿Cuántos días de vacaciones tienen los empleados?\"\n",
    "print(f\"\\n🧪 Comparando tipos de búsqueda con: '{test_query}'\")\n",
    "\n",
    "try:\n",
    "    # Búsqueda por similaridad tradicional\n",
    "    docs_similarity = vectorstore.similarity_search_with_score(test_query, k=3)\n",
    "    print(f\"\\n📋 Búsqueda por SIMILARIDAD (tradicional):\")\n",
    "    for i, (doc, score) in enumerate(docs_similarity, 1):\n",
    "        print(f\"  {i}. Score: {score:.3f} | {doc.page_content[:100]}...\")\n",
    "    \n",
    "    # Búsqueda con MMR\n",
    "    docs_mmr = retriever.invoke(test_query)\n",
    "    print(f\"\\n🎯 Búsqueda con MMR (diversidad optimizada):\")\n",
    "    for i, doc in enumerate(docs_mmr[:3], 1):\n",
    "        print(f\"  {i}. Fuente: {doc.metadata['source_file']} | {doc.page_content[:100]}...\")\n",
    "        \n",
    "    print(f\"\\n💡 MMR proporciona mayor diversidad semántica en los resultados\")\n",
    "        \n",
    "except Exception as e:\n",
    "    print(f\"❌ Error en búsqueda: {e}\")"
   ]
  },
  {
   "cell_type": "markdown",
   "id": "langchain_retriever_header",
   "metadata": {},
   "source": [
    "## 6. Sistema RAG Completo con LangChain\n",
    "\n",
    "Configuramos el sistema completo de pregunta-respuesta usando LangChain con optimizaciones."
   ]
  },
  {
   "cell_type": "code",
   "execution_count": 31,
   "id": "setup_llm",
   "metadata": {
    "ExecuteTime": {
     "end_time": "2025-09-17T06:29:56.845945Z",
     "start_time": "2025-09-17T06:29:56.461482Z"
    }
   },
   "outputs": [
    {
     "name": "stdout",
     "output_type": "stream",
     "text": [
      "🤖 Modelo de lenguaje configurado: gpt-4o-mini\n",
      "  - Temperatura: 0 (respuestas determinísticas)\n",
      "  - Tokens máximos: 2000\n",
      "\n",
      "🧪 Prueba del LLM:\n",
      "  - Pregunta: ¿Cuál es la capital de Francia?\n",
      "  - Respuesta: La capital de Francia es París....\n"
     ]
    }
   ],
   "source": [
    "# Configurar el modelo de lenguaje\n",
    "llm = ChatOpenAI(\n",
    "    model=CONFIG[\"llm_model\"],\n",
    "    api_key=OPENAI_API_KEY,\n",
    "    temperature=0,\n",
    "    max_tokens=2000\n",
    ")\n",
    "\n",
    "print(f\"🤖 Modelo de lenguaje configurado: {CONFIG['llm_model']}\")\n",
    "print(f\"  - Temperatura: 0 (respuestas determinísticas)\")\n",
    "print(f\"  - Tokens máximos: 2000\")\n",
    "\n",
    "# Probar el modelo\n",
    "test_prompt = \"¿Cuál es la capital de Francia?\"\n",
    "try:\n",
    "    response = llm.invoke(test_prompt)\n",
    "    print(f\"\\n🧪 Prueba del LLM:\")\n",
    "    print(f\"  - Pregunta: {test_prompt}\")\n",
    "    print(f\"  - Respuesta: {response.content[:100]}...\")\n",
    "except Exception as e:\n",
    "    print(f\"❌ Error probando LLM: {e}\")"
   ]
  },
  {
   "cell_type": "code",
   "execution_count": 32,
   "id": "setup_qa_chain",
   "metadata": {
    "ExecuteTime": {
     "end_time": "2025-09-17T06:29:56.857676Z",
     "start_time": "2025-09-17T06:29:56.854633Z"
    }
   },
   "outputs": [
    {
     "name": "stdout",
     "output_type": "stream",
     "text": [
      "🔗 Cadena de QA configurada exitosamente\n",
      "  - Tipo de cadena: stuff\n",
      "  - Retorna documentos fuente: Sí\n",
      "  - Retrieval: MMR optimizado\n",
      "  - Modo verbose: No\n"
     ]
    }
   ],
   "source": [
    "# Configurar la cadena de pregunta-respuesta\n",
    "qa_chain = RetrievalQA.from_chain_type(\n",
    "    llm=llm,\n",
    "    chain_type=\"stuff\",  # \"stuff\" significa incluir todos los documentos recuperados en el prompt\n",
    "    retriever=retriever,\n",
    "    return_source_documents=True,\n",
    "    verbose=False\n",
    ")\n",
    "\n",
    "print(\"🔗 Cadena de QA configurada exitosamente\")\n",
    "print(\"  - Tipo de cadena: stuff\")\n",
    "print(\"  - Retorna documentos fuente: Sí\")\n",
    "print(\"  - Retrieval: MMR optimizado\")\n",
    "print(\"  - Modo verbose: No\")"
   ]
  },
  {
   "cell_type": "code",
   "execution_count": 33,
   "id": "test_qa_system",
   "metadata": {
    "ExecuteTime": {
     "end_time": "2025-09-17T06:29:56.874270Z",
     "start_time": "2025-09-17T06:29:56.870503Z"
    }
   },
   "outputs": [
    {
     "name": "stdout",
     "output_type": "stream",
     "text": [
      "📝 Preparadas 7 preguntas de prueba (incluyendo validación crítica)\n",
      "  1. ¿Cuántos días de vacaciones tienen los empleados nuevos?\n",
      "  2. ¿Cuál es la política de trabajo remoto de la empresa?\n",
      "  3. ¿Qué estándares de código se deben seguir para Python?\n",
      "  4. ¿Cuál es el proceso para hacer deploy a producción?\n",
      "  5. ¿Qué porcentaje mínimo de cobertura de tests se requiere?\n",
      "  6. ¿Cuáles son los horarios específicos para trabajo remoto y qué aprobación se necesita?\n",
      "  7. ¿Qué diferencia hay entre los días de vacaciones de empleados con 2 años vs 5 años de antigüedad?\n"
     ]
    }
   ],
   "source": [
    "# Función para procesar consultas\n",
    "def query_rag_system(question: str, return_sources: bool = True):\n",
    "    \"\"\"Procesa una consulta y genera respuesta con el sistema RAG optimizado\"\"\"\n",
    "    print(f\"❓ Procesando consulta: {question}\")\n",
    "    \n",
    "    try:\n",
    "        result = qa_chain.invoke({\"query\": question})\n",
    "        \n",
    "        response = {\n",
    "            \"question\": question,\n",
    "            \"answer\": result[\"result\"],\n",
    "            \"timestamp\": time.strftime(\"%Y-%m-%d %H:%M:%S\")\n",
    "        }\n",
    "        \n",
    "        if return_sources and \"source_documents\" in result:\n",
    "            sources = []\n",
    "            for i, doc in enumerate(result[\"source_documents\"]):\n",
    "                source_info = {\n",
    "                    \"document_id\": i + 1,\n",
    "                    \"source_file\": doc.metadata.get(\"source_file\", \"Unknown\"),\n",
    "                    \"chunk_id\": doc.metadata.get(\"chunk_id\", \"Unknown\"),\n",
    "                    \"content_preview\": doc.page_content[:200] + \"...\"\n",
    "                }\n",
    "                sources.append(source_info)\n",
    "                \n",
    "            response[\"sources\"] = sources\n",
    "            response[\"num_sources\"] = len(sources)\n",
    "            \n",
    "        return response\n",
    "        \n",
    "    except Exception as e:\n",
    "        return {\n",
    "            \"question\": question,\n",
    "            \"answer\": f\"Error procesando consulta: {e}\",\n",
    "            \"error\": True,\n",
    "            \"timestamp\": time.strftime(\"%Y-%m-%d %H:%M:%S\")\n",
    "        }\n",
    "\n",
    "# Definir preguntas de prueba optimizadas (incluyendo críticas)\n",
    "test_questions = [\n",
    "    \"¿Cuántos días de vacaciones tienen los empleados nuevos?\",\n",
    "    \"¿Cuál es la política de trabajo remoto de la empresa?\", \n",
    "    \"¿Qué estándares de código se deben seguir para Python?\",\n",
    "    \"¿Cuál es el proceso para hacer deploy a producción?\",\n",
    "    \"¿Qué porcentaje mínimo de cobertura de tests se requiere?\",\n",
    "    \"¿Cuáles son los horarios específicos para trabajo remoto y qué aprobación se necesita?\",\n",
    "    \"¿Qué diferencia hay entre los días de vacaciones de empleados con 2 años vs 5 años de antigüedad?\"\n",
    "]\n",
    "\n",
    "print(f\"📝 Preparadas {len(test_questions)} preguntas de prueba (incluyendo validación crítica)\")\n",
    "for i, q in enumerate(test_questions, 1):\n",
    "    print(f\"  {i}. {q}\")"
   ]
  },
  {
   "cell_type": "code",
   "execution_count": 34,
   "id": "execute_queries",
   "metadata": {
    "ExecuteTime": {
     "end_time": "2025-09-17T06:30:20.816633Z",
     "start_time": "2025-09-17T06:29:56.885412Z"
    }
   },
   "outputs": [
    {
     "name": "stdout",
     "output_type": "stream",
     "text": [
      "🚀 Ejecutando consultas del sistema RAG optimizado\n",
      "============================================================\n",
      "\n",
      "--- Consulta 1/7 ---\n",
      "❓ Procesando consulta: ¿Cuántos días de vacaciones tienen los empleados nuevos?\n",
      "✅ Respuesta: Los empleados nuevos tienen 15 días de vacaciones al año.\n",
      "\n",
      "📚 Fuentes utilizadas (MMR diversificado - 5):\n",
      "   - manual_politicas.txt (fragmento 31)\n",
      "   - manual_politicas.txt (fragmento 31)\n",
      "   - manual_politicas.txt (fragmento 31)\n",
      "   - manual_politicas.txt (fragmento 30)\n",
      "   - manual_politicas.txt (fragmento 30)\n",
      "------------------------------------------------------------\n",
      "\n",
      "--- Consulta 2/7 ---\n",
      "❓ Procesando consulta: ¿Cuál es la política de trabajo remoto de la empresa?\n",
      "✅ Respuesta: La política de trabajo remoto de la empresa TechCorp establece lo siguiente:\n",
      "\n",
      "1. **Elegibilidad**: Los empleados pueden trabajar de forma remota si:\n",
      "   - Han completado al menos 6 meses en la empresa.\n",
      "   - Su supervisor directo aprueba la solicitud.\n",
      "   - Su rol permite trabajo remoto efectivo.\n",
      "\n",
      "2. **Horarios de Trabajo**:\n",
      "   - Horario flexible entre 7:00 AM y 7:00 PM.\n",
      "   - Mínimo 6 horas de solapamiento con el equipo.\n",
      "   - Disponibilidad para reuniones importantes.\n",
      "\n",
      "📚 Fuentes utilizadas (MMR diversificado - 5):\n",
      "   - manual_politicas.txt (fragmento 30)\n",
      "   - manual_politicas.txt (fragmento 30)\n",
      "   - manual_politicas.txt (fragmento 30)\n",
      "   - manual_politicas.txt (fragmento 22)\n",
      "   - manual_politicas.txt (fragmento 22)\n",
      "------------------------------------------------------------\n",
      "\n",
      "--- Consulta 3/7 ---\n",
      "❓ Procesando consulta: ¿Qué estándares de código se deben seguir para Python?\n",
      "✅ Respuesta: Para Python, se debe seguir PEP 8. Además, todos los métodos públicos deben tener docstrings, y es obligatorio incluir un README.md en cada repositorio, así como comentarios en código complejo.\n",
      "\n",
      "📚 Fuentes utilizadas (MMR diversificado - 5):\n",
      "   - guia_desarrollo.txt (fragmento 20)\n",
      "   - guia_desarrollo.txt (fragmento 20)\n",
      "   - guia_desarrollo.txt (fragmento 20)\n",
      "   - guia_desarrollo.txt (fragmento 15)\n",
      "   - manual_politicas.txt (fragmento 1)\n",
      "------------------------------------------------------------\n",
      "\n",
      "--- Consulta 4/7 ---\n",
      "❓ Procesando consulta: ¿Cuál es el proceso para hacer deploy a producción?\n",
      "✅ Respuesta: El proceso para hacer deploy a producción es el siguiente:\n",
      "\n",
      "1. Realizar el deploy solo desde la rama main.\n",
      "2. Hacer un backup antes de cada deploy a producción.\n",
      "3. Tener un plan de rollback siempre disponible.\n",
      "\n",
      "📚 Fuentes utilizadas (MMR diversificado - 5):\n",
      "   - guia_desarrollo.txt (fragmento 22)\n",
      "   - guia_desarrollo.txt (fragmento 22)\n",
      "   - guia_desarrollo.txt (fragmento 22)\n",
      "   - guia_desarrollo.txt (fragmento 21)\n",
      "   - guia_desarrollo.txt (fragmento 16)\n",
      "------------------------------------------------------------\n",
      "\n",
      "--- Consulta 5/7 ---\n",
      "❓ Procesando consulta: ¿Qué porcentaje mínimo de cobertura de tests se requiere?\n",
      "✅ Respuesta: Se requiere un mínimo del 80% de cobertura de código.\n",
      "\n",
      "📚 Fuentes utilizadas (MMR diversificado - 5):\n",
      "   - guia_desarrollo.txt (fragmento 16)\n",
      "   - guia_desarrollo.txt (fragmento 21)\n",
      "   - guia_desarrollo.txt (fragmento 21)\n",
      "   - manual_politicas.txt (fragmento 23)\n",
      "   - guia_desarrollo.txt (fragmento 20)\n",
      "------------------------------------------------------------\n",
      "\n",
      "--- Consulta 6/7 ---\n",
      "❓ Procesando consulta: ¿Cuáles son los horarios específicos para trabajo remoto y qué aprobación se necesita?\n",
      "✅ Respuesta: Los horarios específicos para trabajo remoto son flexibles entre 7:00 AM y 7:00 PM, con un mínimo de 6 horas de solapamiento con el equipo y disponibilidad para reuniones importantes. Además, se requiere la aprobación del supervisor directo para poder trabajar de forma remota.\n",
      "\n",
      "📚 Fuentes utilizadas (MMR diversificado - 5):\n",
      "   - manual_politicas.txt (fragmento 30)\n",
      "   - manual_politicas.txt (fragmento 30)\n",
      "   - manual_politicas.txt (fragmento 30)\n",
      "   - manual_politicas.txt (fragmento 0)\n",
      "   - manual_politicas.txt (fragmento 1)\n",
      "------------------------------------------------------------\n",
      "\n",
      "--- Consulta 7/7 ---\n",
      "❓ Procesando consulta: ¿Qué diferencia hay entre los días de vacaciones de empleados con 2 años vs 5 años de antigüedad?\n",
      "✅ Respuesta: La diferencia en los días de vacaciones es de 5 días. Los empleados con 2 o más años de antigüedad tienen derecho a 20 días de vacaciones al año, mientras que los empleados con 5 o más años de antigüedad tienen derecho a 25 días al año.\n",
      "\n",
      "📚 Fuentes utilizadas (MMR diversificado - 5):\n",
      "   - manual_politicas.txt (fragmento 31)\n",
      "   - manual_politicas.txt (fragmento 31)\n",
      "   - manual_politicas.txt (fragmento 31)\n",
      "   - manual_politicas.txt (fragmento 30)\n",
      "   - manual_politicas.txt (fragmento 30)\n",
      "------------------------------------------------------------\n",
      "\n",
      "✅ Completadas todas las consultas optimizadas!\n"
     ]
    }
   ],
   "source": [
    "# Ejecutar todas las consultas de prueba\n",
    "print(\"🚀 Ejecutando consultas del sistema RAG optimizado\")\n",
    "print(\"=\" * 60)\n",
    "\n",
    "results = []\n",
    "\n",
    "for i, question in enumerate(test_questions, 1):\n",
    "    print(f\"\\n--- Consulta {i}/{len(test_questions)} ---\")\n",
    "    \n",
    "    result = query_rag_system(question)\n",
    "    results.append(result)\n",
    "    \n",
    "    print(f\"✅ Respuesta: {result['answer']}\")\n",
    "    \n",
    "    if 'sources' in result:\n",
    "        print(f\"\\n📚 Fuentes utilizadas (MMR diversificado - {result['num_sources']}):\")\n",
    "        for source in result['sources']:\n",
    "            print(f\"   - {source['source_file']} (fragmento {source['chunk_id']})\")\n",
    "    \n",
    "    if 'error' in result:\n",
    "        print(f\"❌ Error: {result['answer']}\")\n",
    "    \n",
    "    print(\"-\" * 60)\n",
    "    \n",
    "    # Pausa entre consultas para evitar rate limits\n",
    "    if i < len(test_questions):\n",
    "        time.sleep(2)\n",
    "\n",
    "print(f\"\\n✅ Completadas todas las consultas optimizadas!\")"
   ]
  },
  {
   "cell_type": "code",
   "execution_count": 35,
   "id": "save_results",
   "metadata": {
    "ExecuteTime": {
     "end_time": "2025-09-17T06:30:20.855270Z",
     "start_time": "2025-09-17T06:30:20.850367Z"
    }
   },
   "outputs": [
    {
     "name": "stdout",
     "output_type": "stream",
     "text": [
      "💾 Resultados guardados en: rag_results.json\n",
      "\n",
      "📊 Estadísticas finales optimizadas:\n",
      "  - Total de consultas: 7\n",
      "  - Consultas exitosas: 7\n",
      "  - Consultas fallidas: 0\n",
      "  - Tasa de éxito: 100.0%\n",
      "\n",
      "🏗️ Información del sistema optimizado:\n",
      "  - Documentos originales: 5\n",
      "  - Fragmentos creados: 32 (chunks optimizados de 800 chars)\n",
      "  - Documentos en vectorstore: 233\n",
      "  - Modelo LLM: gpt-4o-mini\n",
      "  - Modelo embeddings: text-embedding-3-small\n",
      "  - Retrieval: MMR con k=5\n",
      "  - Base de datos: ./chroma_db\n",
      "  - Carga: Automática desde sample_docs/\n"
     ]
    }
   ],
   "source": [
    "# Guardar resultados en archivo JSON\n",
    "results_file = \"rag_results.json\"\n",
    "\n",
    "with open(results_file, \"w\", encoding=\"utf-8\") as f:\n",
    "    json.dump(results, f, indent=2, ensure_ascii=False)\n",
    "\n",
    "print(f\"💾 Resultados guardados en: {results_file}\")\n",
    "\n",
    "# Mostrar estadísticas finales\n",
    "successful_queries = len([r for r in results if 'error' not in r])\n",
    "failed_queries = len([r for r in results if 'error' in r])\n",
    "\n",
    "print(f\"\\n📊 Estadísticas finales optimizadas:\")\n",
    "print(f\"  - Total de consultas: {len(results)}\")\n",
    "print(f\"  - Consultas exitosas: {successful_queries}\")\n",
    "print(f\"  - Consultas fallidas: {failed_queries}\")\n",
    "print(f\"  - Tasa de éxito: {(successful_queries/len(results)*100):.1f}%\")\n",
    "\n",
    "# Mostrar información del sistema optimizado\n",
    "print(f\"\\n🏗️ Información del sistema optimizado:\")\n",
    "print(f\"  - Documentos originales: {len(documents)}\")\n",
    "print(f\"  - Fragmentos creados: {len(chunks)} (chunks optimizados de 800 chars)\")\n",
    "print(f\"  - Documentos en vectorstore: {vectorstore._collection.count()}\")\n",
    "print(f\"  - Modelo LLM: {CONFIG['llm_model']}\")\n",
    "print(f\"  - Modelo embeddings: {CONFIG['embedding_model']}\")\n",
    "print(f\"  - Retrieval: {CONFIG['search_type'].upper()} con k={CONFIG['retrieval_k']}\")\n",
    "print(f\"  - Base de datos: {CONFIG['persist_directory']}\")\n",
    "print(f\"  - Carga: Automática desde sample_docs/\")"
   ]
  },
  {
   "cell_type": "code",
   "execution_count": 36,
   "id": "interactive_query",
   "metadata": {
    "ExecuteTime": {
     "end_time": "2025-09-17T06:30:23.118140Z",
     "start_time": "2025-09-17T06:30:20.867911Z"
    }
   },
   "outputs": [
    {
     "name": "stdout",
     "output_type": "stream",
     "text": [
      "🎯 Sección interactiva - Haz tu propia consulta\n",
      "Puedes modificar la variable 'custom_question' y ejecutar esta celda\n",
      "Aprovecha las optimizaciones: MMR retrieval, chunks de 800 chars, carga automática\n",
      "\n",
      "Pregunta personalizada (validación crítica): ¿Qué requisitos específicos hay para trabajar de forma remota y cuáles son exactamente los horarios permitidos?\n",
      "❓ Procesando consulta: ¿Qué requisitos específicos hay para trabajar de forma remota y cuáles son exactamente los horarios permitidos?\n",
      "\n",
      "✅ Respuesta personalizada:\n",
      "Para trabajar de forma remota en TechCorp, los requisitos específicos son:\n",
      "\n",
      "1. Haber completado al menos 6 meses en la empresa.\n",
      "2. Tener la aprobación de su supervisor directo.\n",
      "3. Su rol debe permitir trabajo remoto efectivo.\n",
      "\n",
      "En cuanto a los horarios permitidos, son los siguientes:\n",
      "\n",
      "- Horario flexible entre 7:00 AM y 7:00 PM.\n",
      "- Mínimo 6 horas de solapamiento con el equipo.\n",
      "- Disponibilidad para reuniones importantes.\n",
      "\n",
      "📚 Fuentes consultadas (MMR diversificado):\n",
      "   - manual_politicas.txt\n",
      "     Preview: Manual de Políticas de la Empresa TechCorp\n",
      "\n",
      "1. POLÍTICAS DE TRABAJO REMOTO\n",
      "\n",
      "1.1 Elegibilidad\n",
      "Los empleados pueden trabajar de forma remota si:\n",
      "- Han c...\n",
      "   - manual_politicas.txt\n",
      "     Preview: Manual de Políticas de la Empresa TechCorp\n",
      "\n",
      "1. POLÍTICAS DE TRABAJO REMOTO\n",
      "\n",
      "1.1 Elegibilidad\n",
      "Los empleados pueden trabajar de forma remota si:\n",
      "- Han c...\n",
      "   - manual_politicas.txt\n",
      "     Preview: Manual de Políticas de la Empresa TechCorp\n",
      "    \n",
      "    1. POLÍTICAS DE TRABAJO REMOTO\n",
      "    \n",
      "    1.1 Elegibilidad\n",
      "    Los empleados pueden trabajar de form...\n",
      "   - manual_politicas.txt\n",
      "     Preview: Manual de Políticas de la Empresa TechCorp\n",
      "    \n",
      "    1. POLÍTICAS DE TRABAJO REMOTO\n",
      "    \n",
      "    1.1 Elegibilidad\n",
      "    Los empleados pueden trabajar de form...\n",
      "   - manual_politicas.txt\n",
      "     Preview: - Empleados con 2+ años: 20 días al año\n",
      "    - Empleados con 5+ años: 25 días al año\n",
      "    \n",
      "    2.2 Solicitud de Vacaciones\n",
      "    - Solicitar con al menos ...\n"
     ]
    }
   ],
   "source": [
    "# Sección interactiva para consultas personalizadas\n",
    "print(\"🎯 Sección interactiva - Haz tu propia consulta\")\n",
    "print(\"Puedes modificar la variable 'custom_question' y ejecutar esta celda\")\n",
    "print(\"Aprovecha las optimizaciones: MMR retrieval, chunks de 800 chars, carga automática\")\n",
    "\n",
    "# Modifica esta pregunta para probar el sistema optimizado\n",
    "custom_question = \"¿Qué requisitos específicos hay para trabajar de forma remota y cuáles son exactamente los horarios permitidos?\"\n",
    "\n",
    "print(f\"\\nPregunta personalizada (validación crítica): {custom_question}\")\n",
    "custom_result = query_rag_system(custom_question)\n",
    "\n",
    "print(f\"\\n✅ Respuesta personalizada:\")\n",
    "print(custom_result['answer'])\n",
    "\n",
    "if 'sources' in custom_result:\n",
    "    print(f\"\\n📚 Fuentes consultadas (MMR diversificado):\")\n",
    "    for source in custom_result['sources']:\n",
    "        print(f\"   - {source['source_file']}\")\n",
    "        print(f\"     Preview: {source['content_preview'][:150]}...\")"
   ]
  },
  {
   "cell_type": "markdown",
   "id": "conclusion_header",
   "metadata": {},
   "source": [
    "## 🎯 Conclusiones y Próximos Pasos\n",
    "\n",
    "### ✅ Objetivos Cumplidos con Optimizaciones\n",
    "\n",
    "1. **Carga automática**: ✅ Detección automática desde sample_docs/\n",
    "2. **Extracción de archivos**: ✅ Implementado soporte para PDF y TXT\n",
    "3. **Chunking optimizado**: ✓ Fragmentos de 1200 chars con overlap 200\\n4. **Embeddings**: ✅ Vectorización con OpenAI text-embedding-3-small\n",
    "5. **Base de datos vectorial**: ✅ Almacenamiento persistente con ChromaDB\n",
    "6. **Recuperación MMR**: ✅ Búsqueda con Maximal Marginal Relevance\n",
    "7. **Generación**: ✅ Respuestas contextualizadas con GPT-4o-mini\n",
    "8. **Validación crítica**: ✅ Preguntas específicas para entidades y relaciones\n",
    "\n",
    "### 📊 Rendimiento del Sistema Optimizado\n",
    "\n",
    "- **Precisión mejorada**: Respuestas con mayor continuidad contextual\n",
    "- **Diversidad semántica**: Retrieval MMR genera respuestas más completas\n",
    "- **Automatización**: Carga automática de cualquier número de documentos\n",
    "- **Validación robusta**: Preguntas críticas verifican entidades específicas\n",
    "- **Escalabilidad**: Arquitectura preparada para más documentos\n",
    "\n",
    "### 🚀 Mejoras Implementadas vs Versión Anterior\n",
    "\n",
    "1. **Chunking optimizado**: 1200 chars para mejor contexto\\n2. **Retrieval MMR**: Mayor diversidad vs similaridad simple\n",
    "3. **Carga automática**: No más rutas hardcodeadas\n",
    "4. **Validación crítica**: Preguntas específicas para verificar precisión\n",
    "5. **Configuración flexible**: Parámetros centralizados y documentados\n",
    "\n",
    "### 🎓 Aprendizajes Clave Optimizados\n",
    "\n",
    "- **RAG vs LLM puro**: Mayor precisión y fundamentación en datos reales\n",
    "- **Importancia del chunking optimizado**: Balance entre contexto y especificidad mejorado\n",
    "- **MMR vs Similarity**: Diversidad semántica crítica para respuestas completas\n",
    "- **Carga automática**: Escalabilidad sin intervención manual\n",
    "- **Validación crítica**: Esencial para verificar precisión en datos específicos\n",
    "- **Persistencia optimizada**: Ventajas de configuraciones flexibles"
   ]
  }
 ],
 "metadata": {
  "kernelspec": {
   "display_name": "Python [conda env:base] *",
   "language": "python",
   "name": "conda-base-py"
  },
  "language_info": {
   "codemirror_mode": {
    "name": "ipython",
    "version": 3
   },
   "file_extension": ".py",
   "mimetype": "text/x-python",
   "name": "python",
   "nbconvert_exporter": "python",
   "pygments_lexer": "ipython3",
   "version": "3.13.5"
  }
 },
 "nbformat": 4,
 "nbformat_minor": 5
}
